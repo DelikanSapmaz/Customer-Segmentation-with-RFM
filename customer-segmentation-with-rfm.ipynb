{
 "cells": [
  {
   "cell_type": "markdown",
   "id": "8644585e",
   "metadata": {
    "_cell_guid": "b1076dfc-b9ad-4769-8c92-a6c4dae69d19",
    "_uuid": "8f2839f25d086af736a60e9eeb907d3b93b6e0e5",
    "papermill": {
     "duration": 0.010743,
     "end_time": "2024-05-29T12:48:49.646502",
     "exception": false,
     "start_time": "2024-05-29T12:48:49.635759",
     "status": "completed"
    },
    "tags": []
   },
   "source": [
    "<div style=\"border-radius:10px; border:#4E5672 solid; padding: 15px; background-color: #F8F1E8; font-size:120%; text-align:left\">\n",
    "\n",
    "<h3 align=\"left\"><font color='#4E5672'>📝 Description:</font></h3>\n",
    "\n",
    "\n",
    "* An e-commerce company wants to segment its customers and determine marketing strategies based on these segments.\n",
    "    \n",
    "**Variables**\n",
    "    \n",
    "* InvoiceNo: Invoice number. A unique number assigned to each transaction or invoice. If it starts with 'C', it indicates a canceled transaction.\n",
    "* StockCode: Product code. A unique number assigned to each product.\n",
    "* Description: Product name.\n",
    "* Quantity: Quantity of the product. Indicates how many units of the product were sold per invoice.\n",
    "* InvoiceDate: Date and time of the invoice.\n",
    "* UnitPrice: Price of the product (in Sterling).\n",
    "* CustomerID: Unique customer number.\n",
    "* Country: Country name. The country where the customer resides.\n",
    "    "
   ]
  },
  {
   "cell_type": "markdown",
   "id": "3d0f73a1",
   "metadata": {
    "papermill": {
     "duration": 0.010047,
     "end_time": "2024-05-29T12:48:49.666995",
     "exception": false,
     "start_time": "2024-05-29T12:48:49.656948",
     "status": "completed"
    },
    "tags": []
   },
   "source": [
    "# Import Libraries "
   ]
  },
  {
   "cell_type": "code",
   "execution_count": 1,
   "id": "1c9ad858",
   "metadata": {
    "execution": {
     "iopub.execute_input": "2024-05-29T12:48:49.689421Z",
     "iopub.status.busy": "2024-05-29T12:48:49.689021Z",
     "iopub.status.idle": "2024-05-29T12:48:50.434673Z",
     "shell.execute_reply": "2024-05-29T12:48:50.433860Z"
    },
    "papermill": {
     "duration": 0.759795,
     "end_time": "2024-05-29T12:48:50.437233",
     "exception": false,
     "start_time": "2024-05-29T12:48:49.677438",
     "status": "completed"
    },
    "tags": []
   },
   "outputs": [],
   "source": [
    "import numpy as np\n",
    "import pandas as pd\n",
    "import datetime as dt\n",
    "import warnings\n",
    "warnings.filterwarnings(\"ignore\")\n",
    "pd.set_option('display.max_columns',None)\n",
    "pd.set_option(\"display.float_format\",lambda x : '%.3f'%x)"
   ]
  },
  {
   "cell_type": "markdown",
   "id": "50a223c8",
   "metadata": {
    "papermill": {
     "duration": 0.009584,
     "end_time": "2024-05-29T12:48:50.456753",
     "exception": false,
     "start_time": "2024-05-29T12:48:50.447169",
     "status": "completed"
    },
    "tags": []
   },
   "source": [
    "# Data Understanding"
   ]
  },
  {
   "cell_type": "code",
   "execution_count": 2,
   "id": "1dbbdfa5",
   "metadata": {
    "execution": {
     "iopub.execute_input": "2024-05-29T12:48:50.477507Z",
     "iopub.status.busy": "2024-05-29T12:48:50.477070Z",
     "iopub.status.idle": "2024-05-29T12:48:51.820644Z",
     "shell.execute_reply": "2024-05-29T12:48:51.819829Z"
    },
    "papermill": {
     "duration": 1.356636,
     "end_time": "2024-05-29T12:48:51.822941",
     "exception": false,
     "start_time": "2024-05-29T12:48:50.466305",
     "status": "completed"
    },
    "tags": []
   },
   "outputs": [],
   "source": [
    "df_ = pd.read_csv(\"/kaggle/input/online-retail-customer-clustering/OnlineRetail.csv\",sep=\",\", encoding=\"ISO-8859-1\", header=0)\n",
    "df = df_.copy()"
   ]
  },
  {
   "cell_type": "code",
   "execution_count": 3,
   "id": "03014706",
   "metadata": {
    "execution": {
     "iopub.execute_input": "2024-05-29T12:48:51.845223Z",
     "iopub.status.busy": "2024-05-29T12:48:51.844818Z",
     "iopub.status.idle": "2024-05-29T12:48:51.867006Z",
     "shell.execute_reply": "2024-05-29T12:48:51.865990Z"
    },
    "papermill": {
     "duration": 0.036234,
     "end_time": "2024-05-29T12:48:51.869367",
     "exception": false,
     "start_time": "2024-05-29T12:48:51.833133",
     "status": "completed"
    },
    "tags": []
   },
   "outputs": [
    {
     "data": {
      "text/html": [
       "<div>\n",
       "<style scoped>\n",
       "    .dataframe tbody tr th:only-of-type {\n",
       "        vertical-align: middle;\n",
       "    }\n",
       "\n",
       "    .dataframe tbody tr th {\n",
       "        vertical-align: top;\n",
       "    }\n",
       "\n",
       "    .dataframe thead th {\n",
       "        text-align: right;\n",
       "    }\n",
       "</style>\n",
       "<table border=\"1\" class=\"dataframe\">\n",
       "  <thead>\n",
       "    <tr style=\"text-align: right;\">\n",
       "      <th></th>\n",
       "      <th>InvoiceNo</th>\n",
       "      <th>StockCode</th>\n",
       "      <th>Description</th>\n",
       "      <th>Quantity</th>\n",
       "      <th>InvoiceDate</th>\n",
       "      <th>UnitPrice</th>\n",
       "      <th>CustomerID</th>\n",
       "      <th>Country</th>\n",
       "    </tr>\n",
       "  </thead>\n",
       "  <tbody>\n",
       "    <tr>\n",
       "      <th>0</th>\n",
       "      <td>536365</td>\n",
       "      <td>85123A</td>\n",
       "      <td>WHITE HANGING HEART T-LIGHT HOLDER</td>\n",
       "      <td>6</td>\n",
       "      <td>01-12-2010 08:26</td>\n",
       "      <td>2.550</td>\n",
       "      <td>17850.000</td>\n",
       "      <td>United Kingdom</td>\n",
       "    </tr>\n",
       "    <tr>\n",
       "      <th>1</th>\n",
       "      <td>536365</td>\n",
       "      <td>71053</td>\n",
       "      <td>WHITE METAL LANTERN</td>\n",
       "      <td>6</td>\n",
       "      <td>01-12-2010 08:26</td>\n",
       "      <td>3.390</td>\n",
       "      <td>17850.000</td>\n",
       "      <td>United Kingdom</td>\n",
       "    </tr>\n",
       "    <tr>\n",
       "      <th>2</th>\n",
       "      <td>536365</td>\n",
       "      <td>84406B</td>\n",
       "      <td>CREAM CUPID HEARTS COAT HANGER</td>\n",
       "      <td>8</td>\n",
       "      <td>01-12-2010 08:26</td>\n",
       "      <td>2.750</td>\n",
       "      <td>17850.000</td>\n",
       "      <td>United Kingdom</td>\n",
       "    </tr>\n",
       "    <tr>\n",
       "      <th>3</th>\n",
       "      <td>536365</td>\n",
       "      <td>84029G</td>\n",
       "      <td>KNITTED UNION FLAG HOT WATER BOTTLE</td>\n",
       "      <td>6</td>\n",
       "      <td>01-12-2010 08:26</td>\n",
       "      <td>3.390</td>\n",
       "      <td>17850.000</td>\n",
       "      <td>United Kingdom</td>\n",
       "    </tr>\n",
       "    <tr>\n",
       "      <th>4</th>\n",
       "      <td>536365</td>\n",
       "      <td>84029E</td>\n",
       "      <td>RED WOOLLY HOTTIE WHITE HEART.</td>\n",
       "      <td>6</td>\n",
       "      <td>01-12-2010 08:26</td>\n",
       "      <td>3.390</td>\n",
       "      <td>17850.000</td>\n",
       "      <td>United Kingdom</td>\n",
       "    </tr>\n",
       "  </tbody>\n",
       "</table>\n",
       "</div>"
      ],
      "text/plain": [
       "  InvoiceNo StockCode                          Description  Quantity  \\\n",
       "0    536365    85123A   WHITE HANGING HEART T-LIGHT HOLDER         6   \n",
       "1    536365     71053                  WHITE METAL LANTERN         6   \n",
       "2    536365    84406B       CREAM CUPID HEARTS COAT HANGER         8   \n",
       "3    536365    84029G  KNITTED UNION FLAG HOT WATER BOTTLE         6   \n",
       "4    536365    84029E       RED WOOLLY HOTTIE WHITE HEART.         6   \n",
       "\n",
       "        InvoiceDate  UnitPrice  CustomerID         Country  \n",
       "0  01-12-2010 08:26      2.550   17850.000  United Kingdom  \n",
       "1  01-12-2010 08:26      3.390   17850.000  United Kingdom  \n",
       "2  01-12-2010 08:26      2.750   17850.000  United Kingdom  \n",
       "3  01-12-2010 08:26      3.390   17850.000  United Kingdom  \n",
       "4  01-12-2010 08:26      3.390   17850.000  United Kingdom  "
      ]
     },
     "execution_count": 3,
     "metadata": {},
     "output_type": "execute_result"
    }
   ],
   "source": [
    "df.head()"
   ]
  },
  {
   "cell_type": "code",
   "execution_count": 4,
   "id": "e41bf82b",
   "metadata": {
    "execution": {
     "iopub.execute_input": "2024-05-29T12:48:51.893364Z",
     "iopub.status.busy": "2024-05-29T12:48:51.892712Z",
     "iopub.status.idle": "2024-05-29T12:48:52.417269Z",
     "shell.execute_reply": "2024-05-29T12:48:52.416140Z"
    },
    "papermill": {
     "duration": 0.538072,
     "end_time": "2024-05-29T12:48:52.419620",
     "exception": false,
     "start_time": "2024-05-29T12:48:51.881548",
     "status": "completed"
    },
    "tags": []
   },
   "outputs": [
    {
     "name": "stdout",
     "output_type": "stream",
     "text": [
      "######## SHAPE ########\n",
      "(541909, 8)\n",
      "######## ISNULL ########\n",
      "InvoiceNo           0\n",
      "StockCode           0\n",
      "Description      1454\n",
      "Quantity            0\n",
      "InvoiceDate         0\n",
      "UnitPrice           0\n",
      "CustomerID     135080\n",
      "Country             0\n",
      "dtype: int64\n",
      "######## INFO ########\n",
      "<class 'pandas.core.frame.DataFrame'>\n",
      "RangeIndex: 541909 entries, 0 to 541908\n",
      "Data columns (total 8 columns):\n",
      " #   Column       Non-Null Count   Dtype  \n",
      "---  ------       --------------   -----  \n",
      " 0   InvoiceNo    541909 non-null  object \n",
      " 1   StockCode    541909 non-null  object \n",
      " 2   Description  540455 non-null  object \n",
      " 3   Quantity     541909 non-null  int64  \n",
      " 4   InvoiceDate  541909 non-null  object \n",
      " 5   UnitPrice    541909 non-null  float64\n",
      " 6   CustomerID   406829 non-null  float64\n",
      " 7   Country      541909 non-null  object \n",
      "dtypes: float64(2), int64(1), object(5)\n",
      "memory usage: 33.1+ MB\n",
      "None\n"
     ]
    }
   ],
   "source": [
    "def check_dataframe(df):\n",
    "    print(\"######## SHAPE ########\")\n",
    "    print(df.shape)\n",
    "    print(\"######## ISNULL ########\")\n",
    "    print(df.isnull().sum())\n",
    "    print(\"######## INFO ########\")\n",
    "    print(df.info())\n",
    "check_dataframe(df)"
   ]
  },
  {
   "cell_type": "code",
   "execution_count": 5,
   "id": "de230bba",
   "metadata": {
    "execution": {
     "iopub.execute_input": "2024-05-29T12:48:52.442686Z",
     "iopub.status.busy": "2024-05-29T12:48:52.442340Z",
     "iopub.status.idle": "2024-05-29T12:48:52.494557Z",
     "shell.execute_reply": "2024-05-29T12:48:52.493682Z"
    },
    "papermill": {
     "duration": 0.065966,
     "end_time": "2024-05-29T12:48:52.496814",
     "exception": false,
     "start_time": "2024-05-29T12:48:52.430848",
     "status": "completed"
    },
    "tags": []
   },
   "outputs": [
    {
     "data": {
      "text/plain": [
       "4223"
      ]
     },
     "execution_count": 5,
     "metadata": {},
     "output_type": "execute_result"
    }
   ],
   "source": [
    "# What is the number of unique products?\n",
    "df[\"Description\"].nunique()"
   ]
  },
  {
   "cell_type": "code",
   "execution_count": 6,
   "id": "e7238e48",
   "metadata": {
    "execution": {
     "iopub.execute_input": "2024-05-29T12:48:52.520647Z",
     "iopub.status.busy": "2024-05-29T12:48:52.520331Z",
     "iopub.status.idle": "2024-05-29T12:48:52.616481Z",
     "shell.execute_reply": "2024-05-29T12:48:52.615440Z"
    },
    "papermill": {
     "duration": 0.110156,
     "end_time": "2024-05-29T12:48:52.618562",
     "exception": false,
     "start_time": "2024-05-29T12:48:52.508406",
     "status": "completed"
    },
    "tags": []
   },
   "outputs": [
    {
     "data": {
      "text/plain": [
       "Description\n",
       "WHITE HANGING HEART T-LIGHT HOLDER    2369\n",
       "REGENCY CAKESTAND 3 TIER              2200\n",
       "JUMBO BAG RED RETROSPOT               2159\n",
       "PARTY BUNTING                         1727\n",
       "LUNCH BAG RED RETROSPOT               1638\n",
       "Name: count, dtype: int64"
      ]
     },
     "execution_count": 6,
     "metadata": {},
     "output_type": "execute_result"
    }
   ],
   "source": [
    "# We have obtained the information on how many units of each product have been sold.\n",
    "df[\"Description\"].value_counts().head()"
   ]
  },
  {
   "cell_type": "code",
   "execution_count": 7,
   "id": "9fe1896c",
   "metadata": {
    "execution": {
     "iopub.execute_input": "2024-05-29T12:48:52.644207Z",
     "iopub.status.busy": "2024-05-29T12:48:52.643286Z",
     "iopub.status.idle": "2024-05-29T12:48:52.777428Z",
     "shell.execute_reply": "2024-05-29T12:48:52.776445Z"
    },
    "papermill": {
     "duration": 0.149167,
     "end_time": "2024-05-29T12:48:52.779696",
     "exception": false,
     "start_time": "2024-05-29T12:48:52.630529",
     "status": "completed"
    },
    "tags": []
   },
   "outputs": [
    {
     "data": {
      "text/html": [
       "<div>\n",
       "<style scoped>\n",
       "    .dataframe tbody tr th:only-of-type {\n",
       "        vertical-align: middle;\n",
       "    }\n",
       "\n",
       "    .dataframe tbody tr th {\n",
       "        vertical-align: top;\n",
       "    }\n",
       "\n",
       "    .dataframe thead th {\n",
       "        text-align: right;\n",
       "    }\n",
       "</style>\n",
       "<table border=\"1\" class=\"dataframe\">\n",
       "  <thead>\n",
       "    <tr style=\"text-align: right;\">\n",
       "      <th></th>\n",
       "      <th>Quantity</th>\n",
       "    </tr>\n",
       "    <tr>\n",
       "      <th>Description</th>\n",
       "      <th></th>\n",
       "    </tr>\n",
       "  </thead>\n",
       "  <tbody>\n",
       "    <tr>\n",
       "      <th>4 PURPLE FLOCK DINNER CANDLES</th>\n",
       "      <td>144</td>\n",
       "    </tr>\n",
       "    <tr>\n",
       "      <th>50'S CHRISTMAS GIFT BAG LARGE</th>\n",
       "      <td>1913</td>\n",
       "    </tr>\n",
       "    <tr>\n",
       "      <th>DOLLY GIRL BEAKER</th>\n",
       "      <td>2448</td>\n",
       "    </tr>\n",
       "    <tr>\n",
       "      <th>I LOVE LONDON MINI BACKPACK</th>\n",
       "      <td>389</td>\n",
       "    </tr>\n",
       "    <tr>\n",
       "      <th>I LOVE LONDON MINI RUCKSACK</th>\n",
       "      <td>1</td>\n",
       "    </tr>\n",
       "  </tbody>\n",
       "</table>\n",
       "</div>"
      ],
      "text/plain": [
       "                               Quantity\n",
       "Description                            \n",
       "4 PURPLE FLOCK DINNER CANDLES       144\n",
       "50'S CHRISTMAS GIFT BAG LARGE      1913\n",
       "DOLLY GIRL BEAKER                  2448\n",
       "I LOVE LONDON MINI BACKPACK         389\n",
       "I LOVE LONDON MINI RUCKSACK           1"
      ]
     },
     "execution_count": 7,
     "metadata": {},
     "output_type": "execute_result"
    }
   ],
   "source": [
    "# We have calculated which product is the most ordered.\n",
    "df.groupby(\"Description\").agg({\"Quantity\":\"sum\"}).head()"
   ]
  },
  {
   "cell_type": "code",
   "execution_count": 8,
   "id": "4d6e4012",
   "metadata": {
    "execution": {
     "iopub.execute_input": "2024-05-29T12:48:52.803105Z",
     "iopub.status.busy": "2024-05-29T12:48:52.802479Z",
     "iopub.status.idle": "2024-05-29T12:48:52.929169Z",
     "shell.execute_reply": "2024-05-29T12:48:52.928012Z"
    },
    "papermill": {
     "duration": 0.1406,
     "end_time": "2024-05-29T12:48:52.931441",
     "exception": false,
     "start_time": "2024-05-29T12:48:52.790841",
     "status": "completed"
    },
    "tags": []
   },
   "outputs": [
    {
     "data": {
      "text/html": [
       "<div>\n",
       "<style scoped>\n",
       "    .dataframe tbody tr th:only-of-type {\n",
       "        vertical-align: middle;\n",
       "    }\n",
       "\n",
       "    .dataframe tbody tr th {\n",
       "        vertical-align: top;\n",
       "    }\n",
       "\n",
       "    .dataframe thead th {\n",
       "        text-align: right;\n",
       "    }\n",
       "</style>\n",
       "<table border=\"1\" class=\"dataframe\">\n",
       "  <thead>\n",
       "    <tr style=\"text-align: right;\">\n",
       "      <th></th>\n",
       "      <th>Quantity</th>\n",
       "    </tr>\n",
       "    <tr>\n",
       "      <th>Description</th>\n",
       "      <th></th>\n",
       "    </tr>\n",
       "  </thead>\n",
       "  <tbody>\n",
       "    <tr>\n",
       "      <th>WORLD WAR 2 GLIDERS ASSTD DESIGNS</th>\n",
       "      <td>53847</td>\n",
       "    </tr>\n",
       "    <tr>\n",
       "      <th>JUMBO BAG RED RETROSPOT</th>\n",
       "      <td>47363</td>\n",
       "    </tr>\n",
       "    <tr>\n",
       "      <th>ASSORTED COLOUR BIRD ORNAMENT</th>\n",
       "      <td>36381</td>\n",
       "    </tr>\n",
       "    <tr>\n",
       "      <th>POPCORN HOLDER</th>\n",
       "      <td>36334</td>\n",
       "    </tr>\n",
       "    <tr>\n",
       "      <th>PACK OF 72 RETROSPOT CAKE CASES</th>\n",
       "      <td>36039</td>\n",
       "    </tr>\n",
       "  </tbody>\n",
       "</table>\n",
       "</div>"
      ],
      "text/plain": [
       "                                   Quantity\n",
       "Description                                \n",
       "WORLD WAR 2 GLIDERS ASSTD DESIGNS     53847\n",
       "JUMBO BAG RED RETROSPOT               47363\n",
       "ASSORTED COLOUR BIRD ORNAMENT         36381\n",
       "POPCORN HOLDER                        36334\n",
       "PACK OF 72 RETROSPOT CAKE CASES       36039"
      ]
     },
     "execution_count": 8,
     "metadata": {},
     "output_type": "execute_result"
    }
   ],
   "source": [
    "df.groupby(\"Description\").agg({\"Quantity\":\"sum\"}).sort_values(\"Quantity\",ascending=False).head()"
   ]
  },
  {
   "cell_type": "code",
   "execution_count": 9,
   "id": "d3aabef0",
   "metadata": {
    "execution": {
     "iopub.execute_input": "2024-05-29T12:48:52.958757Z",
     "iopub.status.busy": "2024-05-29T12:48:52.958093Z",
     "iopub.status.idle": "2024-05-29T12:48:52.966520Z",
     "shell.execute_reply": "2024-05-29T12:48:52.965720Z"
    },
    "papermill": {
     "duration": 0.024433,
     "end_time": "2024-05-29T12:48:52.968740",
     "exception": false,
     "start_time": "2024-05-29T12:48:52.944307",
     "status": "completed"
    },
    "tags": []
   },
   "outputs": [],
   "source": [
    "# Calculate the TotalPrice.\n",
    "df[\"TotalPrice\"] = df[\"Quantity\"] * df[\"UnitPrice\"]\n"
   ]
  },
  {
   "cell_type": "code",
   "execution_count": 10,
   "id": "18d0808d",
   "metadata": {
    "execution": {
     "iopub.execute_input": "2024-05-29T12:48:52.996204Z",
     "iopub.status.busy": "2024-05-29T12:48:52.995820Z",
     "iopub.status.idle": "2024-05-29T12:48:53.100480Z",
     "shell.execute_reply": "2024-05-29T12:48:53.099351Z"
    },
    "papermill": {
     "duration": 0.121302,
     "end_time": "2024-05-29T12:48:53.103164",
     "exception": false,
     "start_time": "2024-05-29T12:48:52.981862",
     "status": "completed"
    },
    "tags": []
   },
   "outputs": [
    {
     "data": {
      "text/html": [
       "<div>\n",
       "<style scoped>\n",
       "    .dataframe tbody tr th:only-of-type {\n",
       "        vertical-align: middle;\n",
       "    }\n",
       "\n",
       "    .dataframe tbody tr th {\n",
       "        vertical-align: top;\n",
       "    }\n",
       "\n",
       "    .dataframe thead th {\n",
       "        text-align: right;\n",
       "    }\n",
       "</style>\n",
       "<table border=\"1\" class=\"dataframe\">\n",
       "  <thead>\n",
       "    <tr style=\"text-align: right;\">\n",
       "      <th></th>\n",
       "      <th>TotalPrice</th>\n",
       "    </tr>\n",
       "    <tr>\n",
       "      <th>InvoiceNo</th>\n",
       "      <th></th>\n",
       "    </tr>\n",
       "  </thead>\n",
       "  <tbody>\n",
       "    <tr>\n",
       "      <th>536365</th>\n",
       "      <td>139.120</td>\n",
       "    </tr>\n",
       "    <tr>\n",
       "      <th>536366</th>\n",
       "      <td>22.200</td>\n",
       "    </tr>\n",
       "    <tr>\n",
       "      <th>536367</th>\n",
       "      <td>278.730</td>\n",
       "    </tr>\n",
       "    <tr>\n",
       "      <th>536368</th>\n",
       "      <td>70.050</td>\n",
       "    </tr>\n",
       "    <tr>\n",
       "      <th>536369</th>\n",
       "      <td>17.850</td>\n",
       "    </tr>\n",
       "  </tbody>\n",
       "</table>\n",
       "</div>"
      ],
      "text/plain": [
       "           TotalPrice\n",
       "InvoiceNo            \n",
       "536365        139.120\n",
       "536366         22.200\n",
       "536367        278.730\n",
       "536368         70.050\n",
       "536369         17.850"
      ]
     },
     "execution_count": 10,
     "metadata": {},
     "output_type": "execute_result"
    }
   ],
   "source": [
    "# We can calculate the total amount paid per invoice.\n",
    "df.groupby(\"InvoiceNo\").agg({\"TotalPrice\":\"sum\"}).head()\n"
   ]
  },
  {
   "cell_type": "markdown",
   "id": "749d5333",
   "metadata": {
    "papermill": {
     "duration": 0.014255,
     "end_time": "2024-05-29T12:48:53.131908",
     "exception": false,
     "start_time": "2024-05-29T12:48:53.117653",
     "status": "completed"
    },
    "tags": []
   },
   "source": [
    "# Data Preparation"
   ]
  },
  {
   "cell_type": "code",
   "execution_count": 11,
   "id": "49fbfa48",
   "metadata": {
    "execution": {
     "iopub.execute_input": "2024-05-29T12:48:53.159962Z",
     "iopub.status.busy": "2024-05-29T12:48:53.159557Z",
     "iopub.status.idle": "2024-05-29T12:48:53.427998Z",
     "shell.execute_reply": "2024-05-29T12:48:53.427028Z"
    },
    "papermill": {
     "duration": 0.285041,
     "end_time": "2024-05-29T12:48:53.430256",
     "exception": false,
     "start_time": "2024-05-29T12:48:53.145215",
     "status": "completed"
    },
    "tags": []
   },
   "outputs": [
    {
     "data": {
      "text/plain": [
       "InvoiceNo           0\n",
       "StockCode           0\n",
       "Description      1454\n",
       "Quantity            0\n",
       "InvoiceDate         0\n",
       "UnitPrice           0\n",
       "CustomerID     135080\n",
       "Country             0\n",
       "TotalPrice          0\n",
       "dtype: int64"
      ]
     },
     "execution_count": 11,
     "metadata": {},
     "output_type": "execute_result"
    }
   ],
   "source": [
    "df.isnull().sum()"
   ]
  },
  {
   "cell_type": "code",
   "execution_count": 12,
   "id": "ae06b455",
   "metadata": {
    "execution": {
     "iopub.execute_input": "2024-05-29T12:48:53.455296Z",
     "iopub.status.busy": "2024-05-29T12:48:53.454911Z",
     "iopub.status.idle": "2024-05-29T12:48:53.825063Z",
     "shell.execute_reply": "2024-05-29T12:48:53.824136Z"
    },
    "papermill": {
     "duration": 0.385301,
     "end_time": "2024-05-29T12:48:53.827477",
     "exception": false,
     "start_time": "2024-05-29T12:48:53.442176",
     "status": "completed"
    },
    "tags": []
   },
   "outputs": [
    {
     "data": {
      "text/html": [
       "<div>\n",
       "<style scoped>\n",
       "    .dataframe tbody tr th:only-of-type {\n",
       "        vertical-align: middle;\n",
       "    }\n",
       "\n",
       "    .dataframe tbody tr th {\n",
       "        vertical-align: top;\n",
       "    }\n",
       "\n",
       "    .dataframe thead th {\n",
       "        text-align: right;\n",
       "    }\n",
       "</style>\n",
       "<table border=\"1\" class=\"dataframe\">\n",
       "  <thead>\n",
       "    <tr style=\"text-align: right;\">\n",
       "      <th></th>\n",
       "      <th>count</th>\n",
       "      <th>mean</th>\n",
       "      <th>std</th>\n",
       "      <th>min</th>\n",
       "      <th>25%</th>\n",
       "      <th>50%</th>\n",
       "      <th>75%</th>\n",
       "      <th>max</th>\n",
       "    </tr>\n",
       "  </thead>\n",
       "  <tbody>\n",
       "    <tr>\n",
       "      <th>Quantity</th>\n",
       "      <td>406829.000</td>\n",
       "      <td>12.061</td>\n",
       "      <td>248.693</td>\n",
       "      <td>-80995.000</td>\n",
       "      <td>2.000</td>\n",
       "      <td>5.000</td>\n",
       "      <td>12.000</td>\n",
       "      <td>80995.000</td>\n",
       "    </tr>\n",
       "    <tr>\n",
       "      <th>UnitPrice</th>\n",
       "      <td>406829.000</td>\n",
       "      <td>3.460</td>\n",
       "      <td>69.315</td>\n",
       "      <td>0.000</td>\n",
       "      <td>1.250</td>\n",
       "      <td>1.950</td>\n",
       "      <td>3.750</td>\n",
       "      <td>38970.000</td>\n",
       "    </tr>\n",
       "    <tr>\n",
       "      <th>CustomerID</th>\n",
       "      <td>406829.000</td>\n",
       "      <td>15287.691</td>\n",
       "      <td>1713.600</td>\n",
       "      <td>12346.000</td>\n",
       "      <td>13953.000</td>\n",
       "      <td>15152.000</td>\n",
       "      <td>16791.000</td>\n",
       "      <td>18287.000</td>\n",
       "    </tr>\n",
       "    <tr>\n",
       "      <th>TotalPrice</th>\n",
       "      <td>406829.000</td>\n",
       "      <td>20.402</td>\n",
       "      <td>427.592</td>\n",
       "      <td>-168469.600</td>\n",
       "      <td>4.200</td>\n",
       "      <td>11.100</td>\n",
       "      <td>19.500</td>\n",
       "      <td>168469.600</td>\n",
       "    </tr>\n",
       "  </tbody>\n",
       "</table>\n",
       "</div>"
      ],
      "text/plain": [
       "                count      mean      std         min       25%       50%  \\\n",
       "Quantity   406829.000    12.061  248.693  -80995.000     2.000     5.000   \n",
       "UnitPrice  406829.000     3.460   69.315       0.000     1.250     1.950   \n",
       "CustomerID 406829.000 15287.691 1713.600   12346.000 13953.000 15152.000   \n",
       "TotalPrice 406829.000    20.402  427.592 -168469.600     4.200    11.100   \n",
       "\n",
       "                 75%        max  \n",
       "Quantity      12.000  80995.000  \n",
       "UnitPrice      3.750  38970.000  \n",
       "CustomerID 16791.000  18287.000  \n",
       "TotalPrice    19.500 168469.600  "
      ]
     },
     "execution_count": 12,
     "metadata": {},
     "output_type": "execute_result"
    }
   ],
   "source": [
    "df.dropna(inplace=True)\n",
    "df.describe().T"
   ]
  },
  {
   "cell_type": "code",
   "execution_count": 13,
   "id": "b7acf7af",
   "metadata": {
    "execution": {
     "iopub.execute_input": "2024-05-29T12:48:53.854151Z",
     "iopub.status.busy": "2024-05-29T12:48:53.853168Z",
     "iopub.status.idle": "2024-05-29T12:48:54.055858Z",
     "shell.execute_reply": "2024-05-29T12:48:54.054846Z"
    },
    "papermill": {
     "duration": 0.218665,
     "end_time": "2024-05-29T12:48:54.058259",
     "exception": false,
     "start_time": "2024-05-29T12:48:53.839594",
     "status": "completed"
    },
    "tags": []
   },
   "outputs": [],
   "source": [
    "# Returns are represented by the letter \"C\", and we need to exclude them from the dataset.\n",
    "df = df[~df[\"InvoiceNo\"].str.contains(\"C\",na=False)]"
   ]
  },
  {
   "cell_type": "markdown",
   "id": "24758fdd",
   "metadata": {
    "papermill": {
     "duration": 0.011257,
     "end_time": "2024-05-29T12:48:54.081124",
     "exception": false,
     "start_time": "2024-05-29T12:48:54.069867",
     "status": "completed"
    },
    "tags": []
   },
   "source": [
    "# Calculating RFM Metrics Recency, Frequency, Monetary"
   ]
  },
  {
   "cell_type": "code",
   "execution_count": 14,
   "id": "ba7e0853",
   "metadata": {
    "execution": {
     "iopub.execute_input": "2024-05-29T12:48:54.105739Z",
     "iopub.status.busy": "2024-05-29T12:48:54.105049Z",
     "iopub.status.idle": "2024-05-29T12:48:54.117825Z",
     "shell.execute_reply": "2024-05-29T12:48:54.116999Z"
    },
    "papermill": {
     "duration": 0.027207,
     "end_time": "2024-05-29T12:48:54.119748",
     "exception": false,
     "start_time": "2024-05-29T12:48:54.092541",
     "status": "completed"
    },
    "tags": []
   },
   "outputs": [
    {
     "data": {
      "text/html": [
       "<div>\n",
       "<style scoped>\n",
       "    .dataframe tbody tr th:only-of-type {\n",
       "        vertical-align: middle;\n",
       "    }\n",
       "\n",
       "    .dataframe tbody tr th {\n",
       "        vertical-align: top;\n",
       "    }\n",
       "\n",
       "    .dataframe thead th {\n",
       "        text-align: right;\n",
       "    }\n",
       "</style>\n",
       "<table border=\"1\" class=\"dataframe\">\n",
       "  <thead>\n",
       "    <tr style=\"text-align: right;\">\n",
       "      <th></th>\n",
       "      <th>InvoiceNo</th>\n",
       "      <th>StockCode</th>\n",
       "      <th>Description</th>\n",
       "      <th>Quantity</th>\n",
       "      <th>InvoiceDate</th>\n",
       "      <th>UnitPrice</th>\n",
       "      <th>CustomerID</th>\n",
       "      <th>Country</th>\n",
       "      <th>TotalPrice</th>\n",
       "    </tr>\n",
       "  </thead>\n",
       "  <tbody>\n",
       "    <tr>\n",
       "      <th>0</th>\n",
       "      <td>536365</td>\n",
       "      <td>85123A</td>\n",
       "      <td>WHITE HANGING HEART T-LIGHT HOLDER</td>\n",
       "      <td>6</td>\n",
       "      <td>01-12-2010 08:26</td>\n",
       "      <td>2.550</td>\n",
       "      <td>17850.000</td>\n",
       "      <td>United Kingdom</td>\n",
       "      <td>15.300</td>\n",
       "    </tr>\n",
       "    <tr>\n",
       "      <th>1</th>\n",
       "      <td>536365</td>\n",
       "      <td>71053</td>\n",
       "      <td>WHITE METAL LANTERN</td>\n",
       "      <td>6</td>\n",
       "      <td>01-12-2010 08:26</td>\n",
       "      <td>3.390</td>\n",
       "      <td>17850.000</td>\n",
       "      <td>United Kingdom</td>\n",
       "      <td>20.340</td>\n",
       "    </tr>\n",
       "    <tr>\n",
       "      <th>2</th>\n",
       "      <td>536365</td>\n",
       "      <td>84406B</td>\n",
       "      <td>CREAM CUPID HEARTS COAT HANGER</td>\n",
       "      <td>8</td>\n",
       "      <td>01-12-2010 08:26</td>\n",
       "      <td>2.750</td>\n",
       "      <td>17850.000</td>\n",
       "      <td>United Kingdom</td>\n",
       "      <td>22.000</td>\n",
       "    </tr>\n",
       "    <tr>\n",
       "      <th>3</th>\n",
       "      <td>536365</td>\n",
       "      <td>84029G</td>\n",
       "      <td>KNITTED UNION FLAG HOT WATER BOTTLE</td>\n",
       "      <td>6</td>\n",
       "      <td>01-12-2010 08:26</td>\n",
       "      <td>3.390</td>\n",
       "      <td>17850.000</td>\n",
       "      <td>United Kingdom</td>\n",
       "      <td>20.340</td>\n",
       "    </tr>\n",
       "    <tr>\n",
       "      <th>4</th>\n",
       "      <td>536365</td>\n",
       "      <td>84029E</td>\n",
       "      <td>RED WOOLLY HOTTIE WHITE HEART.</td>\n",
       "      <td>6</td>\n",
       "      <td>01-12-2010 08:26</td>\n",
       "      <td>3.390</td>\n",
       "      <td>17850.000</td>\n",
       "      <td>United Kingdom</td>\n",
       "      <td>20.340</td>\n",
       "    </tr>\n",
       "  </tbody>\n",
       "</table>\n",
       "</div>"
      ],
      "text/plain": [
       "  InvoiceNo StockCode                          Description  Quantity  \\\n",
       "0    536365    85123A   WHITE HANGING HEART T-LIGHT HOLDER         6   \n",
       "1    536365     71053                  WHITE METAL LANTERN         6   \n",
       "2    536365    84406B       CREAM CUPID HEARTS COAT HANGER         8   \n",
       "3    536365    84029G  KNITTED UNION FLAG HOT WATER BOTTLE         6   \n",
       "4    536365    84029E       RED WOOLLY HOTTIE WHITE HEART.         6   \n",
       "\n",
       "        InvoiceDate  UnitPrice  CustomerID         Country  TotalPrice  \n",
       "0  01-12-2010 08:26      2.550   17850.000  United Kingdom      15.300  \n",
       "1  01-12-2010 08:26      3.390   17850.000  United Kingdom      20.340  \n",
       "2  01-12-2010 08:26      2.750   17850.000  United Kingdom      22.000  \n",
       "3  01-12-2010 08:26      3.390   17850.000  United Kingdom      20.340  \n",
       "4  01-12-2010 08:26      3.390   17850.000  United Kingdom      20.340  "
      ]
     },
     "execution_count": 14,
     "metadata": {},
     "output_type": "execute_result"
    }
   ],
   "source": [
    "df.head()"
   ]
  },
  {
   "cell_type": "code",
   "execution_count": 15,
   "id": "38364ae1",
   "metadata": {
    "execution": {
     "iopub.execute_input": "2024-05-29T12:48:54.144321Z",
     "iopub.status.busy": "2024-05-29T12:48:54.143692Z",
     "iopub.status.idle": "2024-05-29T12:48:54.201931Z",
     "shell.execute_reply": "2024-05-29T12:48:54.201046Z"
    },
    "papermill": {
     "duration": 0.072615,
     "end_time": "2024-05-29T12:48:54.203931",
     "exception": false,
     "start_time": "2024-05-29T12:48:54.131316",
     "status": "completed"
    },
    "tags": []
   },
   "outputs": [
    {
     "data": {
      "text/plain": [
       "'31-10-2011 17:13'"
      ]
     },
     "execution_count": 15,
     "metadata": {},
     "output_type": "execute_result"
    }
   ],
   "source": [
    "df[\"InvoiceDate\"].max()"
   ]
  },
  {
   "cell_type": "markdown",
   "id": "7b5a00fa",
   "metadata": {
    "papermill": {
     "duration": 0.012222,
     "end_time": "2024-05-29T12:48:54.229468",
     "exception": false,
     "start_time": "2024-05-29T12:48:54.217246",
     "status": "completed"
    },
    "tags": []
   },
   "source": [
    "<div style=\"border-radius:10px; border:#4E5672 solid; padding: 15px; background-color: #F8F1E8; font-size:120%; text-align:left\">\n",
    "\n",
    "<h3 align=\"left\"><font color='#4E5672'>📝 Note:</font></h3>\n",
    "    \n",
    "* We add 2 days to the date of the dataset and consider this date as the date of analysis."
   ]
  },
  {
   "cell_type": "code",
   "execution_count": 16,
   "id": "2808c6aa",
   "metadata": {
    "execution": {
     "iopub.execute_input": "2024-05-29T12:48:54.258177Z",
     "iopub.status.busy": "2024-05-29T12:48:54.257472Z",
     "iopub.status.idle": "2024-05-29T12:48:54.264446Z",
     "shell.execute_reply": "2024-05-29T12:48:54.263364Z"
    },
    "papermill": {
     "duration": 0.024862,
     "end_time": "2024-05-29T12:48:54.267045",
     "exception": false,
     "start_time": "2024-05-29T12:48:54.242183",
     "status": "completed"
    },
    "tags": []
   },
   "outputs": [
    {
     "data": {
      "text/plain": [
       "datetime.datetime(2011, 11, 2, 0, 0)"
      ]
     },
     "execution_count": 16,
     "metadata": {},
     "output_type": "execute_result"
    }
   ],
   "source": [
    "today_date = dt.datetime(2011,11,2)\n",
    "today_date"
   ]
  },
  {
   "cell_type": "code",
   "execution_count": 17,
   "id": "511bc282",
   "metadata": {
    "collapsed": true,
    "execution": {
     "iopub.execute_input": "2024-05-29T12:48:54.296177Z",
     "iopub.status.busy": "2024-05-29T12:48:54.295842Z",
     "iopub.status.idle": "2024-05-29T12:48:54.453876Z",
     "shell.execute_reply": "2024-05-29T12:48:54.453020Z"
    },
    "jupyter": {
     "outputs_hidden": true
    },
    "papermill": {
     "duration": 0.175158,
     "end_time": "2024-05-29T12:48:54.456274",
     "exception": false,
     "start_time": "2024-05-29T12:48:54.281116",
     "status": "completed"
    },
    "tags": []
   },
   "outputs": [],
   "source": [
    "df['InvoiceDate'] = pd.to_datetime(df['InvoiceDate'], format='%d-%m-%Y %H:%M')\n"
   ]
  },
  {
   "cell_type": "code",
   "execution_count": 18,
   "id": "7492cade",
   "metadata": {
    "execution": {
     "iopub.execute_input": "2024-05-29T12:48:54.482257Z",
     "iopub.status.busy": "2024-05-29T12:48:54.481913Z",
     "iopub.status.idle": "2024-05-29T12:48:55.564403Z",
     "shell.execute_reply": "2024-05-29T12:48:55.563579Z"
    },
    "papermill": {
     "duration": 1.098431,
     "end_time": "2024-05-29T12:48:55.566994",
     "exception": false,
     "start_time": "2024-05-29T12:48:54.468563",
     "status": "completed"
    },
    "tags": []
   },
   "outputs": [],
   "source": [
    "rfm = (df.groupby('CustomerID').\n",
    "       agg({'InvoiceDate': lambda InvoiceDate: (today_date - InvoiceDate.max()).days,\n",
    "                                     'InvoiceNo': lambda InvoiceNo: InvoiceNo.nunique(),\n",
    "                                     'TotalPrice': lambda TotalPrice: TotalPrice.sum()}))"
   ]
  },
  {
   "cell_type": "code",
   "execution_count": 19,
   "id": "0a517b1a",
   "metadata": {
    "execution": {
     "iopub.execute_input": "2024-05-29T12:48:55.594240Z",
     "iopub.status.busy": "2024-05-29T12:48:55.593618Z",
     "iopub.status.idle": "2024-05-29T12:48:55.603689Z",
     "shell.execute_reply": "2024-05-29T12:48:55.602771Z"
    },
    "papermill": {
     "duration": 0.025171,
     "end_time": "2024-05-29T12:48:55.605667",
     "exception": false,
     "start_time": "2024-05-29T12:48:55.580496",
     "status": "completed"
    },
    "tags": []
   },
   "outputs": [
    {
     "data": {
      "text/html": [
       "<div>\n",
       "<style scoped>\n",
       "    .dataframe tbody tr th:only-of-type {\n",
       "        vertical-align: middle;\n",
       "    }\n",
       "\n",
       "    .dataframe tbody tr th {\n",
       "        vertical-align: top;\n",
       "    }\n",
       "\n",
       "    .dataframe thead th {\n",
       "        text-align: right;\n",
       "    }\n",
       "</style>\n",
       "<table border=\"1\" class=\"dataframe\">\n",
       "  <thead>\n",
       "    <tr style=\"text-align: right;\">\n",
       "      <th></th>\n",
       "      <th>InvoiceDate</th>\n",
       "      <th>InvoiceNo</th>\n",
       "      <th>TotalPrice</th>\n",
       "    </tr>\n",
       "    <tr>\n",
       "      <th>CustomerID</th>\n",
       "      <th></th>\n",
       "      <th></th>\n",
       "      <th></th>\n",
       "    </tr>\n",
       "  </thead>\n",
       "  <tbody>\n",
       "    <tr>\n",
       "      <th>12346.000</th>\n",
       "      <td>287</td>\n",
       "      <td>1</td>\n",
       "      <td>77183.600</td>\n",
       "    </tr>\n",
       "    <tr>\n",
       "      <th>12347.000</th>\n",
       "      <td>-36</td>\n",
       "      <td>7</td>\n",
       "      <td>4310.000</td>\n",
       "    </tr>\n",
       "    <tr>\n",
       "      <th>12348.000</th>\n",
       "      <td>37</td>\n",
       "      <td>4</td>\n",
       "      <td>1797.240</td>\n",
       "    </tr>\n",
       "    <tr>\n",
       "      <th>12349.000</th>\n",
       "      <td>-20</td>\n",
       "      <td>1</td>\n",
       "      <td>1757.550</td>\n",
       "    </tr>\n",
       "    <tr>\n",
       "      <th>12350.000</th>\n",
       "      <td>272</td>\n",
       "      <td>1</td>\n",
       "      <td>334.400</td>\n",
       "    </tr>\n",
       "  </tbody>\n",
       "</table>\n",
       "</div>"
      ],
      "text/plain": [
       "            InvoiceDate  InvoiceNo  TotalPrice\n",
       "CustomerID                                    \n",
       "12346.000           287          1   77183.600\n",
       "12347.000           -36          7    4310.000\n",
       "12348.000            37          4    1797.240\n",
       "12349.000           -20          1    1757.550\n",
       "12350.000           272          1     334.400"
      ]
     },
     "execution_count": 19,
     "metadata": {},
     "output_type": "execute_result"
    }
   ],
   "source": [
    "rfm.head()"
   ]
  },
  {
   "cell_type": "code",
   "execution_count": 20,
   "id": "e7df983b",
   "metadata": {
    "execution": {
     "iopub.execute_input": "2024-05-29T12:48:55.630924Z",
     "iopub.status.busy": "2024-05-29T12:48:55.630657Z",
     "iopub.status.idle": "2024-05-29T12:48:55.634847Z",
     "shell.execute_reply": "2024-05-29T12:48:55.634010Z"
    },
    "papermill": {
     "duration": 0.018997,
     "end_time": "2024-05-29T12:48:55.636749",
     "exception": false,
     "start_time": "2024-05-29T12:48:55.617752",
     "status": "completed"
    },
    "tags": []
   },
   "outputs": [],
   "source": [
    "rfm.columns=['recency','frequency','monetary']\n"
   ]
  },
  {
   "cell_type": "code",
   "execution_count": 21,
   "id": "593518e9",
   "metadata": {
    "execution": {
     "iopub.execute_input": "2024-05-29T12:48:55.666268Z",
     "iopub.status.busy": "2024-05-29T12:48:55.665854Z",
     "iopub.status.idle": "2024-05-29T12:48:55.676762Z",
     "shell.execute_reply": "2024-05-29T12:48:55.675566Z"
    },
    "papermill": {
     "duration": 0.030333,
     "end_time": "2024-05-29T12:48:55.679205",
     "exception": false,
     "start_time": "2024-05-29T12:48:55.648872",
     "status": "completed"
    },
    "tags": []
   },
   "outputs": [
    {
     "data": {
      "text/html": [
       "<div>\n",
       "<style scoped>\n",
       "    .dataframe tbody tr th:only-of-type {\n",
       "        vertical-align: middle;\n",
       "    }\n",
       "\n",
       "    .dataframe tbody tr th {\n",
       "        vertical-align: top;\n",
       "    }\n",
       "\n",
       "    .dataframe thead th {\n",
       "        text-align: right;\n",
       "    }\n",
       "</style>\n",
       "<table border=\"1\" class=\"dataframe\">\n",
       "  <thead>\n",
       "    <tr style=\"text-align: right;\">\n",
       "      <th></th>\n",
       "      <th>recency</th>\n",
       "      <th>frequency</th>\n",
       "      <th>monetary</th>\n",
       "    </tr>\n",
       "    <tr>\n",
       "      <th>CustomerID</th>\n",
       "      <th></th>\n",
       "      <th></th>\n",
       "      <th></th>\n",
       "    </tr>\n",
       "  </thead>\n",
       "  <tbody>\n",
       "    <tr>\n",
       "      <th>12346.000</th>\n",
       "      <td>287</td>\n",
       "      <td>1</td>\n",
       "      <td>77183.600</td>\n",
       "    </tr>\n",
       "    <tr>\n",
       "      <th>12347.000</th>\n",
       "      <td>-36</td>\n",
       "      <td>7</td>\n",
       "      <td>4310.000</td>\n",
       "    </tr>\n",
       "    <tr>\n",
       "      <th>12348.000</th>\n",
       "      <td>37</td>\n",
       "      <td>4</td>\n",
       "      <td>1797.240</td>\n",
       "    </tr>\n",
       "    <tr>\n",
       "      <th>12349.000</th>\n",
       "      <td>-20</td>\n",
       "      <td>1</td>\n",
       "      <td>1757.550</td>\n",
       "    </tr>\n",
       "    <tr>\n",
       "      <th>12350.000</th>\n",
       "      <td>272</td>\n",
       "      <td>1</td>\n",
       "      <td>334.400</td>\n",
       "    </tr>\n",
       "  </tbody>\n",
       "</table>\n",
       "</div>"
      ],
      "text/plain": [
       "            recency  frequency  monetary\n",
       "CustomerID                              \n",
       "12346.000       287          1 77183.600\n",
       "12347.000       -36          7  4310.000\n",
       "12348.000        37          4  1797.240\n",
       "12349.000       -20          1  1757.550\n",
       "12350.000       272          1   334.400"
      ]
     },
     "execution_count": 21,
     "metadata": {},
     "output_type": "execute_result"
    }
   ],
   "source": [
    "rfm.head()"
   ]
  },
  {
   "cell_type": "code",
   "execution_count": 22,
   "id": "6f2876e2",
   "metadata": {
    "execution": {
     "iopub.execute_input": "2024-05-29T12:48:55.710654Z",
     "iopub.status.busy": "2024-05-29T12:48:55.710324Z",
     "iopub.status.idle": "2024-05-29T12:48:55.715796Z",
     "shell.execute_reply": "2024-05-29T12:48:55.715044Z"
    },
    "papermill": {
     "duration": 0.022043,
     "end_time": "2024-05-29T12:48:55.717992",
     "exception": false,
     "start_time": "2024-05-29T12:48:55.695949",
     "status": "completed"
    },
    "tags": []
   },
   "outputs": [],
   "source": [
    "rfm=rfm[rfm[\"monetary\"]>0]"
   ]
  },
  {
   "cell_type": "markdown",
   "id": "ca7b22e9",
   "metadata": {
    "papermill": {
     "duration": 0.011933,
     "end_time": "2024-05-29T12:48:55.742731",
     "exception": false,
     "start_time": "2024-05-29T12:48:55.730798",
     "status": "completed"
    },
    "tags": []
   },
   "source": [
    "# Calculating RFM Scores"
   ]
  },
  {
   "cell_type": "code",
   "execution_count": 23,
   "id": "f059c067",
   "metadata": {
    "execution": {
     "iopub.execute_input": "2024-05-29T12:48:55.768413Z",
     "iopub.status.busy": "2024-05-29T12:48:55.768100Z",
     "iopub.status.idle": "2024-05-29T12:48:55.797772Z",
     "shell.execute_reply": "2024-05-29T12:48:55.796916Z"
    },
    "papermill": {
     "duration": 0.045358,
     "end_time": "2024-05-29T12:48:55.800042",
     "exception": false,
     "start_time": "2024-05-29T12:48:55.754684",
     "status": "completed"
    },
    "tags": []
   },
   "outputs": [
    {
     "data": {
      "text/html": [
       "<div>\n",
       "<style scoped>\n",
       "    .dataframe tbody tr th:only-of-type {\n",
       "        vertical-align: middle;\n",
       "    }\n",
       "\n",
       "    .dataframe tbody tr th {\n",
       "        vertical-align: top;\n",
       "    }\n",
       "\n",
       "    .dataframe thead th {\n",
       "        text-align: right;\n",
       "    }\n",
       "</style>\n",
       "<table border=\"1\" class=\"dataframe\">\n",
       "  <thead>\n",
       "    <tr style=\"text-align: right;\">\n",
       "      <th></th>\n",
       "      <th>recency</th>\n",
       "      <th>frequency</th>\n",
       "      <th>monetary</th>\n",
       "      <th>recency_score</th>\n",
       "      <th>frequency_score</th>\n",
       "      <th>monetary_score</th>\n",
       "      <th>RFM_SCORE</th>\n",
       "    </tr>\n",
       "    <tr>\n",
       "      <th>CustomerID</th>\n",
       "      <th></th>\n",
       "      <th></th>\n",
       "      <th></th>\n",
       "      <th></th>\n",
       "      <th></th>\n",
       "      <th></th>\n",
       "      <th></th>\n",
       "    </tr>\n",
       "  </thead>\n",
       "  <tbody>\n",
       "    <tr>\n",
       "      <th>12346.000</th>\n",
       "      <td>287</td>\n",
       "      <td>1</td>\n",
       "      <td>77183.600</td>\n",
       "      <td>1</td>\n",
       "      <td>1</td>\n",
       "      <td>5</td>\n",
       "      <td>11</td>\n",
       "    </tr>\n",
       "    <tr>\n",
       "      <th>12347.000</th>\n",
       "      <td>-36</td>\n",
       "      <td>7</td>\n",
       "      <td>4310.000</td>\n",
       "      <td>5</td>\n",
       "      <td>5</td>\n",
       "      <td>5</td>\n",
       "      <td>55</td>\n",
       "    </tr>\n",
       "    <tr>\n",
       "      <th>12348.000</th>\n",
       "      <td>37</td>\n",
       "      <td>4</td>\n",
       "      <td>1797.240</td>\n",
       "      <td>2</td>\n",
       "      <td>4</td>\n",
       "      <td>4</td>\n",
       "      <td>24</td>\n",
       "    </tr>\n",
       "    <tr>\n",
       "      <th>12349.000</th>\n",
       "      <td>-20</td>\n",
       "      <td>1</td>\n",
       "      <td>1757.550</td>\n",
       "      <td>4</td>\n",
       "      <td>1</td>\n",
       "      <td>4</td>\n",
       "      <td>41</td>\n",
       "    </tr>\n",
       "    <tr>\n",
       "      <th>12350.000</th>\n",
       "      <td>272</td>\n",
       "      <td>1</td>\n",
       "      <td>334.400</td>\n",
       "      <td>1</td>\n",
       "      <td>1</td>\n",
       "      <td>2</td>\n",
       "      <td>11</td>\n",
       "    </tr>\n",
       "  </tbody>\n",
       "</table>\n",
       "</div>"
      ],
      "text/plain": [
       "            recency  frequency  monetary recency_score frequency_score  \\\n",
       "CustomerID                                                               \n",
       "12346.000       287          1 77183.600             1               1   \n",
       "12347.000       -36          7  4310.000             5               5   \n",
       "12348.000        37          4  1797.240             2               4   \n",
       "12349.000       -20          1  1757.550             4               1   \n",
       "12350.000       272          1   334.400             1               1   \n",
       "\n",
       "           monetary_score RFM_SCORE  \n",
       "CustomerID                           \n",
       "12346.000               5        11  \n",
       "12347.000               5        55  \n",
       "12348.000               4        24  \n",
       "12349.000               4        41  \n",
       "12350.000               2        11  "
      ]
     },
     "execution_count": 23,
     "metadata": {},
     "output_type": "execute_result"
    }
   ],
   "source": [
    "rfm[\"recency_score\"] = pd.qcut(rfm['recency'], 5, labels=[5, 4, 3, 2, 1])\n",
    "rfm[\"frequency_score\"] = pd.qcut(rfm['frequency'].rank(method=\"first\"), 5, labels=[1, 2, 3, 4, 5])\n",
    "rfm[\"monetary_score\"] = pd.qcut(rfm[\"monetary\"],5,labels=[1,2,3,4,5])\n",
    "rfm[\"RFM_SCORE\"] = (rfm['recency_score'].astype(str)+\n",
    "                    rfm['frequency_score'].astype(str))\n",
    "rfm.head()"
   ]
  },
  {
   "cell_type": "markdown",
   "id": "f124a629",
   "metadata": {
    "papermill": {
     "duration": 0.012345,
     "end_time": "2024-05-29T12:48:55.825111",
     "exception": false,
     "start_time": "2024-05-29T12:48:55.812766",
     "status": "completed"
    },
    "tags": []
   },
   "source": [
    "# Creating & Analysing RFM Segments"
   ]
  },
  {
   "cell_type": "code",
   "execution_count": 24,
   "id": "c3ee9ede",
   "metadata": {
    "execution": {
     "iopub.execute_input": "2024-05-29T12:48:55.852147Z",
     "iopub.status.busy": "2024-05-29T12:48:55.851172Z",
     "iopub.status.idle": "2024-05-29T12:48:55.948533Z",
     "shell.execute_reply": "2024-05-29T12:48:55.947518Z"
    },
    "papermill": {
     "duration": 0.113077,
     "end_time": "2024-05-29T12:48:55.950621",
     "exception": false,
     "start_time": "2024-05-29T12:48:55.837544",
     "status": "completed"
    },
    "tags": []
   },
   "outputs": [
    {
     "data": {
      "text/html": [
       "<div>\n",
       "<style scoped>\n",
       "    .dataframe tbody tr th:only-of-type {\n",
       "        vertical-align: middle;\n",
       "    }\n",
       "\n",
       "    .dataframe tbody tr th {\n",
       "        vertical-align: top;\n",
       "    }\n",
       "\n",
       "    .dataframe thead th {\n",
       "        text-align: right;\n",
       "    }\n",
       "</style>\n",
       "<table border=\"1\" class=\"dataframe\">\n",
       "  <thead>\n",
       "    <tr style=\"text-align: right;\">\n",
       "      <th></th>\n",
       "      <th>recency</th>\n",
       "      <th>frequency</th>\n",
       "      <th>monetary</th>\n",
       "      <th>recency_score</th>\n",
       "      <th>frequency_score</th>\n",
       "      <th>monetary_score</th>\n",
       "      <th>RFM_SCORE</th>\n",
       "      <th>segment</th>\n",
       "    </tr>\n",
       "    <tr>\n",
       "      <th>CustomerID</th>\n",
       "      <th></th>\n",
       "      <th></th>\n",
       "      <th></th>\n",
       "      <th></th>\n",
       "      <th></th>\n",
       "      <th></th>\n",
       "      <th></th>\n",
       "      <th></th>\n",
       "    </tr>\n",
       "  </thead>\n",
       "  <tbody>\n",
       "    <tr>\n",
       "      <th>12346.000</th>\n",
       "      <td>287</td>\n",
       "      <td>1</td>\n",
       "      <td>77183.600</td>\n",
       "      <td>1</td>\n",
       "      <td>1</td>\n",
       "      <td>5</td>\n",
       "      <td>11</td>\n",
       "      <td>hibernating</td>\n",
       "    </tr>\n",
       "    <tr>\n",
       "      <th>12347.000</th>\n",
       "      <td>-36</td>\n",
       "      <td>7</td>\n",
       "      <td>4310.000</td>\n",
       "      <td>5</td>\n",
       "      <td>5</td>\n",
       "      <td>5</td>\n",
       "      <td>55</td>\n",
       "      <td>champions</td>\n",
       "    </tr>\n",
       "    <tr>\n",
       "      <th>12348.000</th>\n",
       "      <td>37</td>\n",
       "      <td>4</td>\n",
       "      <td>1797.240</td>\n",
       "      <td>2</td>\n",
       "      <td>4</td>\n",
       "      <td>4</td>\n",
       "      <td>24</td>\n",
       "      <td>at_Risk</td>\n",
       "    </tr>\n",
       "    <tr>\n",
       "      <th>12349.000</th>\n",
       "      <td>-20</td>\n",
       "      <td>1</td>\n",
       "      <td>1757.550</td>\n",
       "      <td>4</td>\n",
       "      <td>1</td>\n",
       "      <td>4</td>\n",
       "      <td>41</td>\n",
       "      <td>promising</td>\n",
       "    </tr>\n",
       "    <tr>\n",
       "      <th>12350.000</th>\n",
       "      <td>272</td>\n",
       "      <td>1</td>\n",
       "      <td>334.400</td>\n",
       "      <td>1</td>\n",
       "      <td>1</td>\n",
       "      <td>2</td>\n",
       "      <td>11</td>\n",
       "      <td>hibernating</td>\n",
       "    </tr>\n",
       "  </tbody>\n",
       "</table>\n",
       "</div>"
      ],
      "text/plain": [
       "            recency  frequency  monetary recency_score frequency_score  \\\n",
       "CustomerID                                                               \n",
       "12346.000       287          1 77183.600             1               1   \n",
       "12347.000       -36          7  4310.000             5               5   \n",
       "12348.000        37          4  1797.240             2               4   \n",
       "12349.000       -20          1  1757.550             4               1   \n",
       "12350.000       272          1   334.400             1               1   \n",
       "\n",
       "           monetary_score RFM_SCORE      segment  \n",
       "CustomerID                                        \n",
       "12346.000               5        11  hibernating  \n",
       "12347.000               5        55    champions  \n",
       "12348.000               4        24      at_Risk  \n",
       "12349.000               4        41    promising  \n",
       "12350.000               2        11  hibernating  "
      ]
     },
     "execution_count": 24,
     "metadata": {},
     "output_type": "execute_result"
    }
   ],
   "source": [
    "seg_map = {\n",
    "    r'[1-2][1-2]': 'hibernating',\n",
    "    r'[1-2][3-4]': 'at_Risk',\n",
    "    r'[1-2]5': 'cant_loose',\n",
    "    r'3[1-2]': 'about_to_sleep',\n",
    "    r'33': 'need_attention',\n",
    "    r'[3-4][4-5]': 'loyal_customers',\n",
    "    r'41': 'promising',\n",
    "    r'51': 'new_customers',\n",
    "    r'[4-5][2-3]': 'potential_loyalists',\n",
    "    r'5[4-5]': 'champions'\n",
    "}\n",
    "\n",
    "\n",
    "\n",
    "rfm[\"segment\"] = rfm['RFM_SCORE'].replace(seg_map,regex=True)\n",
    "rfm.head()"
   ]
  },
  {
   "cell_type": "code",
   "execution_count": 25,
   "id": "e0aa725b",
   "metadata": {
    "execution": {
     "iopub.execute_input": "2024-05-29T12:48:55.978138Z",
     "iopub.status.busy": "2024-05-29T12:48:55.977791Z",
     "iopub.status.idle": "2024-05-29T12:48:55.999103Z",
     "shell.execute_reply": "2024-05-29T12:48:55.998128Z"
    },
    "papermill": {
     "duration": 0.037621,
     "end_time": "2024-05-29T12:48:56.001159",
     "exception": false,
     "start_time": "2024-05-29T12:48:55.963538",
     "status": "completed"
    },
    "tags": []
   },
   "outputs": [
    {
     "data": {
      "text/html": [
       "<div>\n",
       "<style scoped>\n",
       "    .dataframe tbody tr th:only-of-type {\n",
       "        vertical-align: middle;\n",
       "    }\n",
       "\n",
       "    .dataframe tbody tr th {\n",
       "        vertical-align: top;\n",
       "    }\n",
       "\n",
       "    .dataframe thead tr th {\n",
       "        text-align: left;\n",
       "    }\n",
       "\n",
       "    .dataframe thead tr:last-of-type th {\n",
       "        text-align: right;\n",
       "    }\n",
       "</style>\n",
       "<table border=\"1\" class=\"dataframe\">\n",
       "  <thead>\n",
       "    <tr>\n",
       "      <th></th>\n",
       "      <th colspan=\"2\" halign=\"left\">recency</th>\n",
       "      <th colspan=\"2\" halign=\"left\">frequency</th>\n",
       "      <th colspan=\"2\" halign=\"left\">monetary</th>\n",
       "    </tr>\n",
       "    <tr>\n",
       "      <th></th>\n",
       "      <th>mean</th>\n",
       "      <th>count</th>\n",
       "      <th>mean</th>\n",
       "      <th>count</th>\n",
       "      <th>mean</th>\n",
       "      <th>count</th>\n",
       "    </tr>\n",
       "    <tr>\n",
       "      <th>segment</th>\n",
       "      <th></th>\n",
       "      <th></th>\n",
       "      <th></th>\n",
       "      <th></th>\n",
       "      <th></th>\n",
       "      <th></th>\n",
       "    </tr>\n",
       "  </thead>\n",
       "  <tbody>\n",
       "    <tr>\n",
       "      <th>about_to_sleep</th>\n",
       "      <td>14.312</td>\n",
       "      <td>352</td>\n",
       "      <td>1.162</td>\n",
       "      <td>352</td>\n",
       "      <td>471.994</td>\n",
       "      <td>352</td>\n",
       "    </tr>\n",
       "    <tr>\n",
       "      <th>at_Risk</th>\n",
       "      <td>114.786</td>\n",
       "      <td>593</td>\n",
       "      <td>2.879</td>\n",
       "      <td>593</td>\n",
       "      <td>1084.535</td>\n",
       "      <td>593</td>\n",
       "    </tr>\n",
       "    <tr>\n",
       "      <th>cant_loose</th>\n",
       "      <td>93.968</td>\n",
       "      <td>63</td>\n",
       "      <td>8.381</td>\n",
       "      <td>63</td>\n",
       "      <td>2796.156</td>\n",
       "      <td>63</td>\n",
       "    </tr>\n",
       "    <tr>\n",
       "      <th>champions</th>\n",
       "      <td>-32.638</td>\n",
       "      <td>633</td>\n",
       "      <td>12.417</td>\n",
       "      <td>633</td>\n",
       "      <td>6857.935</td>\n",
       "      <td>633</td>\n",
       "    </tr>\n",
       "    <tr>\n",
       "      <th>hibernating</th>\n",
       "      <td>178.605</td>\n",
       "      <td>1071</td>\n",
       "      <td>1.102</td>\n",
       "      <td>1071</td>\n",
       "      <td>488.643</td>\n",
       "      <td>1071</td>\n",
       "    </tr>\n",
       "    <tr>\n",
       "      <th>loyal_customers</th>\n",
       "      <td>-5.392</td>\n",
       "      <td>819</td>\n",
       "      <td>6.480</td>\n",
       "      <td>819</td>\n",
       "      <td>2864.248</td>\n",
       "      <td>819</td>\n",
       "    </tr>\n",
       "    <tr>\n",
       "      <th>need_attention</th>\n",
       "      <td>13.428</td>\n",
       "      <td>187</td>\n",
       "      <td>2.326</td>\n",
       "      <td>187</td>\n",
       "      <td>897.628</td>\n",
       "      <td>187</td>\n",
       "    </tr>\n",
       "    <tr>\n",
       "      <th>new_customers</th>\n",
       "      <td>-31.571</td>\n",
       "      <td>42</td>\n",
       "      <td>1.000</td>\n",
       "      <td>42</td>\n",
       "      <td>388.213</td>\n",
       "      <td>42</td>\n",
       "    </tr>\n",
       "    <tr>\n",
       "      <th>potential_loyalists</th>\n",
       "      <td>-21.601</td>\n",
       "      <td>484</td>\n",
       "      <td>2.010</td>\n",
       "      <td>484</td>\n",
       "      <td>1041.222</td>\n",
       "      <td>484</td>\n",
       "    </tr>\n",
       "    <tr>\n",
       "      <th>promising</th>\n",
       "      <td>-15.489</td>\n",
       "      <td>94</td>\n",
       "      <td>1.000</td>\n",
       "      <td>94</td>\n",
       "      <td>294.008</td>\n",
       "      <td>94</td>\n",
       "    </tr>\n",
       "  </tbody>\n",
       "</table>\n",
       "</div>"
      ],
      "text/plain": [
       "                    recency       frequency       monetary      \n",
       "                       mean count      mean count     mean count\n",
       "segment                                                         \n",
       "about_to_sleep       14.312   352     1.162   352  471.994   352\n",
       "at_Risk             114.786   593     2.879   593 1084.535   593\n",
       "cant_loose           93.968    63     8.381    63 2796.156    63\n",
       "champions           -32.638   633    12.417   633 6857.935   633\n",
       "hibernating         178.605  1071     1.102  1071  488.643  1071\n",
       "loyal_customers      -5.392   819     6.480   819 2864.248   819\n",
       "need_attention       13.428   187     2.326   187  897.628   187\n",
       "new_customers       -31.571    42     1.000    42  388.213    42\n",
       "potential_loyalists -21.601   484     2.010   484 1041.222   484\n",
       "promising           -15.489    94     1.000    94  294.008    94"
      ]
     },
     "execution_count": 25,
     "metadata": {},
     "output_type": "execute_result"
    }
   ],
   "source": [
    "rfm[[\"segment\", \"recency\", \"frequency\", \"monetary\"]].groupby(\"segment\").agg([\"mean\", \"count\"])"
   ]
  },
  {
   "cell_type": "code",
   "execution_count": 26,
   "id": "b2715775",
   "metadata": {
    "execution": {
     "iopub.execute_input": "2024-05-29T12:48:56.030184Z",
     "iopub.status.busy": "2024-05-29T12:48:56.029480Z",
     "iopub.status.idle": "2024-05-29T12:48:56.045811Z",
     "shell.execute_reply": "2024-05-29T12:48:56.044849Z"
    },
    "papermill": {
     "duration": 0.032531,
     "end_time": "2024-05-29T12:48:56.047781",
     "exception": false,
     "start_time": "2024-05-29T12:48:56.015250",
     "status": "completed"
    },
    "tags": []
   },
   "outputs": [
    {
     "data": {
      "text/html": [
       "<div>\n",
       "<style scoped>\n",
       "    .dataframe tbody tr th:only-of-type {\n",
       "        vertical-align: middle;\n",
       "    }\n",
       "\n",
       "    .dataframe tbody tr th {\n",
       "        vertical-align: top;\n",
       "    }\n",
       "\n",
       "    .dataframe thead th {\n",
       "        text-align: right;\n",
       "    }\n",
       "</style>\n",
       "<table border=\"1\" class=\"dataframe\">\n",
       "  <thead>\n",
       "    <tr style=\"text-align: right;\">\n",
       "      <th></th>\n",
       "      <th>recency</th>\n",
       "      <th>frequency</th>\n",
       "      <th>monetary</th>\n",
       "      <th>recency_score</th>\n",
       "      <th>frequency_score</th>\n",
       "      <th>monetary_score</th>\n",
       "      <th>RFM_SCORE</th>\n",
       "      <th>segment</th>\n",
       "    </tr>\n",
       "    <tr>\n",
       "      <th>CustomerID</th>\n",
       "      <th></th>\n",
       "      <th></th>\n",
       "      <th></th>\n",
       "      <th></th>\n",
       "      <th></th>\n",
       "      <th></th>\n",
       "      <th></th>\n",
       "      <th></th>\n",
       "    </tr>\n",
       "  </thead>\n",
       "  <tbody>\n",
       "    <tr>\n",
       "      <th>12360.000</th>\n",
       "      <td>14</td>\n",
       "      <td>3</td>\n",
       "      <td>2662.060</td>\n",
       "      <td>3</td>\n",
       "      <td>3</td>\n",
       "      <td>5</td>\n",
       "      <td>33</td>\n",
       "      <td>need_attention</td>\n",
       "    </tr>\n",
       "    <tr>\n",
       "      <th>12372.000</th>\n",
       "      <td>33</td>\n",
       "      <td>3</td>\n",
       "      <td>1298.040</td>\n",
       "      <td>3</td>\n",
       "      <td>3</td>\n",
       "      <td>4</td>\n",
       "      <td>33</td>\n",
       "      <td>need_attention</td>\n",
       "    </tr>\n",
       "    <tr>\n",
       "      <th>12413.000</th>\n",
       "      <td>28</td>\n",
       "      <td>3</td>\n",
       "      <td>758.100</td>\n",
       "      <td>3</td>\n",
       "      <td>3</td>\n",
       "      <td>3</td>\n",
       "      <td>33</td>\n",
       "      <td>need_attention</td>\n",
       "    </tr>\n",
       "    <tr>\n",
       "      <th>12456.000</th>\n",
       "      <td>6</td>\n",
       "      <td>3</td>\n",
       "      <td>3181.040</td>\n",
       "      <td>3</td>\n",
       "      <td>3</td>\n",
       "      <td>5</td>\n",
       "      <td>33</td>\n",
       "      <td>need_attention</td>\n",
       "    </tr>\n",
       "    <tr>\n",
       "      <th>12536.000</th>\n",
       "      <td>5</td>\n",
       "      <td>3</td>\n",
       "      <td>12601.830</td>\n",
       "      <td>3</td>\n",
       "      <td>3</td>\n",
       "      <td>5</td>\n",
       "      <td>33</td>\n",
       "      <td>need_attention</td>\n",
       "    </tr>\n",
       "  </tbody>\n",
       "</table>\n",
       "</div>"
      ],
      "text/plain": [
       "            recency  frequency  monetary recency_score frequency_score  \\\n",
       "CustomerID                                                               \n",
       "12360.000        14          3  2662.060             3               3   \n",
       "12372.000        33          3  1298.040             3               3   \n",
       "12413.000        28          3   758.100             3               3   \n",
       "12456.000         6          3  3181.040             3               3   \n",
       "12536.000         5          3 12601.830             3               3   \n",
       "\n",
       "           monetary_score RFM_SCORE         segment  \n",
       "CustomerID                                           \n",
       "12360.000               5        33  need_attention  \n",
       "12372.000               4        33  need_attention  \n",
       "12413.000               3        33  need_attention  \n",
       "12456.000               5        33  need_attention  \n",
       "12536.000               5        33  need_attention  "
      ]
     },
     "execution_count": 26,
     "metadata": {},
     "output_type": "execute_result"
    }
   ],
   "source": [
    "rfm.loc[rfm[\"segment\"]==\"need_attention\"].head(5)"
   ]
  },
  {
   "cell_type": "markdown",
   "id": "464f0c79",
   "metadata": {
    "papermill": {
     "duration": 0.017134,
     "end_time": "2024-05-29T12:48:56.081496",
     "exception": false,
     "start_time": "2024-05-29T12:48:56.064362",
     "status": "completed"
    },
    "tags": []
   },
   "source": [
    "<div style=\"border-radius:10px; border:#4E5672 solid; padding: 15px; background-color: #F8F1E8; font-size:120%; text-align:left\">\n",
    "\n",
    "<h3 align=\"left\"><font color='#4E5672'>📝 Note:</font></h3>\n",
    "    \n",
    "* I have selected the 'need_attention' group here, \n",
    "and we have converted the customer IDs into a CSV file. This way, a process can be initiated to prevent the loss of customers in this group."
   ]
  },
  {
   "cell_type": "code",
   "execution_count": 27,
   "id": "0bc9d270",
   "metadata": {
    "execution": {
     "iopub.execute_input": "2024-05-29T12:48:56.110380Z",
     "iopub.status.busy": "2024-05-29T12:48:56.110001Z",
     "iopub.status.idle": "2024-05-29T12:48:56.116316Z",
     "shell.execute_reply": "2024-05-29T12:48:56.115186Z"
    },
    "papermill": {
     "duration": 0.023341,
     "end_time": "2024-05-29T12:48:56.118336",
     "exception": false,
     "start_time": "2024-05-29T12:48:56.094995",
     "status": "completed"
    },
    "tags": []
   },
   "outputs": [],
   "source": [
    "need_attention_df = pd.DataFrame()"
   ]
  },
  {
   "cell_type": "code",
   "execution_count": 28,
   "id": "6252ba24",
   "metadata": {
    "execution": {
     "iopub.execute_input": "2024-05-29T12:48:56.146860Z",
     "iopub.status.busy": "2024-05-29T12:48:56.146536Z",
     "iopub.status.idle": "2024-05-29T12:48:56.155892Z",
     "shell.execute_reply": "2024-05-29T12:48:56.155020Z"
    },
    "papermill": {
     "duration": 0.026081,
     "end_time": "2024-05-29T12:48:56.158007",
     "exception": false,
     "start_time": "2024-05-29T12:48:56.131926",
     "status": "completed"
    },
    "tags": []
   },
   "outputs": [],
   "source": [
    "need_attention_df[\"need_attention_id\"] = rfm[rfm[\"segment\"]==\"need_attention\"].index\n",
    "need_attention_df[\"need_attention_id\"] = need_attention_df[\"need_attention_id\"].astype(int)"
   ]
  },
  {
   "cell_type": "code",
   "execution_count": 29,
   "id": "b17ae040",
   "metadata": {
    "execution": {
     "iopub.execute_input": "2024-05-29T12:48:56.186230Z",
     "iopub.status.busy": "2024-05-29T12:48:56.185907Z",
     "iopub.status.idle": "2024-05-29T12:48:56.191680Z",
     "shell.execute_reply": "2024-05-29T12:48:56.191014Z"
    },
    "papermill": {
     "duration": 0.021776,
     "end_time": "2024-05-29T12:48:56.193576",
     "exception": false,
     "start_time": "2024-05-29T12:48:56.171800",
     "status": "completed"
    },
    "tags": []
   },
   "outputs": [],
   "source": [
    "need_attention_df.to_csv(\"need_attention.csv\")"
   ]
  },
  {
   "cell_type": "code",
   "execution_count": null,
   "id": "7af0a0e0",
   "metadata": {
    "papermill": {
     "duration": 0.013404,
     "end_time": "2024-05-29T12:48:56.266463",
     "exception": false,
     "start_time": "2024-05-29T12:48:56.253059",
     "status": "completed"
    },
    "tags": []
   },
   "outputs": [],
   "source": []
  }
 ],
 "metadata": {
  "kaggle": {
   "accelerator": "gpu",
   "dataSources": [
    {
     "datasetId": 397875,
     "sourceId": 764509,
     "sourceType": "datasetVersion"
    }
   ],
   "dockerImageVersionId": 30699,
   "isGpuEnabled": true,
   "isInternetEnabled": true,
   "language": "python",
   "sourceType": "notebook"
  },
  "kernelspec": {
   "display_name": "Python 3",
   "language": "python",
   "name": "python3"
  },
  "language_info": {
   "codemirror_mode": {
    "name": "ipython",
    "version": 3
   },
   "file_extension": ".py",
   "mimetype": "text/x-python",
   "name": "python",
   "nbconvert_exporter": "python",
   "pygments_lexer": "ipython3",
   "version": "3.10.13"
  },
  "papermill": {
   "default_parameters": {},
   "duration": 10.036242,
   "end_time": "2024-05-29T12:48:56.699457",
   "environment_variables": {},
   "exception": null,
   "input_path": "__notebook__.ipynb",
   "output_path": "__notebook__.ipynb",
   "parameters": {},
   "start_time": "2024-05-29T12:48:46.663215",
   "version": "2.5.0"
  }
 },
 "nbformat": 4,
 "nbformat_minor": 5
}
